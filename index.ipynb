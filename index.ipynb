{
 "cells": [
  {
   "cell_type": "markdown",
   "metadata": {},
   "source": [
    "# One Sample T-Test - Lab\n",
    "\n",
    "## Introduction\n",
    "Just as you previously used the t distribution to provide confidence intervals on estimating the population mean, you can also use similar methods to test whether two populations are different, statistically speaking. To do this, you can use a t-test.\n",
    "\n",
    "## Objectives\n",
    "You will be able to:\n",
    "\n",
    "* Perform a complete one sample t-test analysis and describe the results\n",
    "\n",
    "* Compare the t-test and resulting p-value with Effect Size and describe both statistics and their applications\n",
    "\n",
    "\n",
    "## Hypothesis testing using Frequentist methods\n",
    "\n",
    "In frequentist hypothesis testing, you construct a test statistic from the measured data and use the value of that statistic to decide whether to accept or reject the null hypothesis. \n",
    "The test statistic is a lower dimensional summary of the data but still maintains the discriminatory power necessary to make the decision whether or not to reject the null hypothesis.\n",
    "\n",
    "\n",
    "[Here](https://hackaday.com/2017/12/01/statistics-and-hacking-an-introduction-to-hypothesis-testing/) is an excellent introduction to hypothesis testing. \n",
    "\n",
    "### Significance Levels (Alpha)\n",
    "\n",
    "The significance level, also denoted as alpha or `α`, is the probability of rejecting the null hypothesis when it is true. For example, a significance level of 0.05 indicates a 5% risk of concluding that a difference exists when there is no actual difference. Look at the following graphs for a better understanding: \n",
    "\n",
    "\n",
    "<img src=\"P05.png\" alt=\"drawing\" width=\"500px\"/>\n",
    "In the graph above, the two shaded areas are equidistant from the null hypothesis value and each area has a probability of 0.025, for a total of 0.05. In statistics, we call these shaded areas the critical regions for a two-tailed test. If the population mean is 260, you’d expect to obtain a sample mean that falls in the critical region 5% of the time. The critical region defines how far away our sample statistic must be from the null hypothesis value before we can say it is unusual enough to reject the null hypothesis.\n",
    "\n",
    "Our sample mean (330.6) falls within the critical region, which indicates it is statistically significant at the 0.05 level.\n",
    "\n",
    "You can also see if it is statistically significant using the other common significance level of 0.01.\n",
    "\n",
    "\n",
    "<img src=\"P01.png\" alt=\"drawing\" width=\"500px\"/>\n",
    "\n",
    "The two shaded areas each have a probability of 0.005, the two of which add up to a total probability of 0.01. This time the sample mean does not fall within the critical region, and you fail to reject the null hypothesis. This comparison shows why you need to choose your significance level before you begin your study. It protects you from choosing a significance level because it conveniently gives you significant results!\n",
    "\n",
    "Using the graph, data scientists are able to determine that their results are statistically significant at the 0.05 level without using a P value. However, when you use the numeric output produced by statistical software, you’ll need to compare the P value to your significance level to make this determination.\n",
    "\n",
    "\n",
    "### P values: \n",
    "P values are the probability of obtaining an effect at least as extreme as the one in your sample data, assuming the truth of the null hypothesis. Let's look at the following graph for a better understanding.\n",
    "\n",
    "<img src=\"p.png\" alt=\"drawing\" width=\"500px\"/>\n",
    "\n",
    "To graph the P value, you need to determine the distance between the sample mean and the null hypothesis value (330.6 - 260 = 70.6). Next, you can graph the probability of obtaining a sample mean that is at least as extreme in both tails of the distribution (260 +/- 70.6).\n",
    "\n",
    "In the graph above, the two shaded areas each have a probability of 0.01556, for a total probability 0.03112. This probability represents the likelihood of obtaining a sample mean that is at least as extreme as our sample mean in both tails of the distribution if the population mean is 260. That’s our P value!\n",
    "\n",
    "When a P value is less than or equal to the significance level, you reject the null hypothesis. If you take the P value for our example and compare it to the common significance levels, it matches the previous graphical results. The P value of 0.03112 is statistically significant at an alpha level of 0.05, but not at the 0.01 level.\n",
    "\n",
    "If you stick to a significance level of 0.05, you can conclude that the average energy cost for the population is greater than 260.\n",
    "\n",
    "[Here's](https://www.khanacademy.org/math/ap-statistics/tests-significance-ap/idea-significance-tests/v/p-values-and-significance-tests) a video that explains this idea in detail. \n",
    "\n",
    "## t-test\n",
    "t-tests (also called Student’s t-test) are very practical hypotheses tests that can be employed to compare two averages (means) to know if they are different from each other. You should run a t-test when you either:\n",
    "* don’t know the population standard deviation \n",
    "* you have a small sample size    \n",
    "\n",
    "Like a z-test, the t-test also tells you how significant the differences are i.e. it lets you know if those differences could have happened by chance. In this lesson, you will get an introduction to t-tests, in particular, the 1-sample t-test. There are additional kinds of t-tests including 2-sample t-test and paired t-test. This lesson will show you the mathematical calculations behind a 1-sample t-test as well as how to perform a t-test in Python using NumPy and SciPy. \n",
    "\n",
    "Detailed descriptions of hypothesis testing with t-tests can be found [here](http://www.mas.ncl.ac.uk/~njnsm/medfac/docs/ttest) and [here](http://blog.minitab.com/blog/adventures-in-statistics-2/understanding-t-tests-t-values-and-t-distributions)\n",
    "\n",
    "\n",
    "\n",
    "### One Sample t-test\n",
    "\n",
    "The 1-sample t-test is a statistical procedure used to determine whether a sample of observations could have been generated by a process with a specific mean. The one sample t-test compares the mean of your sample data to a known value. For example, you might want to know how your sample mean compares to the population mean.  Here is a quick example of a scenario where a 1-sample t-test could be applied. \n",
    "\n",
    "*Suppose you are interested in determining whether a bakery production line produces cakes with the weight of exactly 2 pounds. To test this hypothesis, you could collect a sample of cakes from the production line, measure their weights, and compare the sample with a value of 2 using a one-sample t-test.* \n",
    "\n",
    "We will discuss this process in detail in the following description. First, we must ensure that our experiment settings meet the necessary pre-requisites for conducting the t-test as given below:\n",
    "\n",
    "### Assumptions for the test (your data should meet these requirements for the test to be valid):\n",
    "\n",
    "* **Data is independent**\n",
    "\n",
    "Independence means the value of one observation does not influence or affect the value of other observations. Independent data items are not connected with one another in any way (unless you account for it in your model). This includes the observations in both the “between” and “within” groups of your sample. Non-independent observations introduce bias and can make your statistical test give too many false positives.  \n",
    "\n",
    "* **Data is collected randomly** \n",
    "\n",
    "A sample is random when each data point in your population has an equal chance of being included in the sample; therefore, the selection of any individual observation happens by chance, rather than by choice. This reduces the chance that differences in materials or conditions strongly bias results. Random samples are more likely to be representative of the population; therefore, you can be more confident with your statistical inferences with a random sample. \n",
    "\n",
    "* **The data is approximately normally distributed**\n",
    "\n",
    "The normal distribution assumption is that the sampling distribution of the mean is normal. That is, if you took a sample, calculated its mean, and then you took another (independent) sample (from the same population) and got its mean (and repeated this an infinite number of times), then the distribution of the values that you wrote down would always be a perfect bell curve. This is the principle behind the Central Limit Theorem, and it is this idea  that allows us to perform hypothesis tests. While maybe surprising, this assumption turns out to be relatively uncontroversial, at least when each of the samples is large, such as N ≥ 30. \n",
    "\n",
    "Now, take a look at a sample analytical question and work through the process of calculating the significance of results. \n",
    "\n",
    "### Sample question: \n",
    "\n",
    ">** *\"Acme Ltd. wants to improve sales performance. Past sales data indicate that the average sale was 100 dollars per transaction. After training the sales force, recent sales data (from a random sample of 25 salesmen) is shown below:\"* **\n",
    "\n",
    "       \n",
    "      [122.09, 100.64, 125.77, 120.32, 118.25,  \n",
    "        96.47, 111.4 ,  80.66, 110.77, 111.14, \n",
    "        102.9, 114.54,  88.09,  98.59,  87.07, \n",
    "       110.43, 101.9 , 123.89,  97.03, 116.23, \n",
    "        108.3, 112.82, 119.57, 131.38, 128.39]\n",
    "\n",
    "> **Did the training work? Test your hypothesis at a 5% alpha level.**\n",
    "\n",
    "\n",
    "\n",
    "\n",
    "### Step 1: Write your null hypothesis statement\n",
    "\n",
    "As you are trying to monitor a change in the sales performance after the training, the null-hypothesis addresses the fact that there is no change and sales performance before and after the training is exactly the same. \n",
    "\n",
    "**$H_{0}$: *The null hypothesis is that there is no difference in sales, so:* **\n",
    "\n",
    "> $H_{0}: \\mu$ = $100.\n",
    "\n",
    "\n",
    "### Step 2: Write your alternate hypothesis. \n",
    "    \n",
    "This is the one that we are testing. Our alternate hypothesis should address the expected change in the sales performance i.e. the sales performance has increased and the mean of sales post-training is greater than 100. \n",
    "\n",
    "**$H_{1}$: *The alternative hypothesis is that there is a change i.e. the mean sales increased.* **\n",
    "\n",
    "> $H_{1}: \\mu$ > $100.\n",
    "\n",
    "### Step 3: Import necessary libraries and calculate sample statistics:\n",
    "\n",
    "In order to show a significant increase in the sales performance, we need to calculate the following values:\n",
    "\n",
    "* **The population mean ($\\mu$).** Given as 100 (from past data).\n",
    "* **The sample mean ($\\bar{x}$).** Calculate from the sample data\n",
    "* **The sample standard deviation ($s$).** Calculate from sample data\n",
    "* **Number of observations($n$).** 25 as given in the question. This can also be calculated from the sample data.\n",
    "* **Degrees of Freedom($df$).** Calculate from the sample as df = total no. of observations - 1\n"
   ]
  },
  {
   "cell_type": "code",
   "execution_count": 1,
   "metadata": {},
   "outputs": [],
   "source": [
    "## Import the packages\n",
    "import numpy as np\n",
    "from scipy import stats \n",
    "import math\n",
    "\n",
    "# For visualizing distributions - optional \n",
    "import seaborn as sns\n",
    "import matplotlib.pyplot as plt\n",
    "import numpy as np"
   ]
  },
  {
   "cell_type": "markdown",
   "metadata": {},
   "source": [
    "Identify the pieces of information you’ll need to calculate the test statistic as given above. The sample data should provide you with the required values."
   ]
  },
  {
   "cell_type": "code",
   "execution_count": 2,
   "metadata": {
    "scrolled": true
   },
   "outputs": [
    {
     "name": "stdout",
     "output_type": "stream",
     "text": [
      "9.545599999999993\n"
     ]
    }
   ],
   "source": [
    "# Read the sales data into NumPy array. Alternatively, you can also read this data into a Pandas dataframe\n",
    "sample =  np.array([122.09, 100.64, 125.77, 120.32, 118.25,  \n",
    "    96.47, 111.4 ,  80.66, 110.77, 111.14, \n",
    "    102.9, 114.54,  88.09,  98.59,  87.07, \n",
    "   110.43, 101.9 , 123.89,  97.03, 116.23, \n",
    "    108.3, 112.82, 119.57, 131.38, 128.39])\n",
    "\n",
    "# Population mean (μ)\n",
    "mu = 100\n",
    "\n",
    "# Sample mean (x̄) using NumPy mean()\n",
    "x_bar= sample.mean()\n",
    "\n",
    "# Sample Standard Deviation (sigma) using Numpy\n",
    "sigma = sample.std()\n",
    "\n",
    "# Sample size (n)\n",
    "n = len(sample)\n",
    "\n",
    "# Degrees of Freedom\n",
    "df = n - 1\n",
    "\n",
    "# Difference in sample mean \n",
    "diff = x_bar - mu\n",
    "print(diff)\n",
    "\n",
    "# Print the findings\n",
    "\n",
    "\n",
    "# The sample contains 25 observations, having a mean of 109.5456 \n",
    "# and a standard deviation (sigma) =  13.069276668584225 , \n",
    "# with 24 degrees of freedom. \n",
    "# The difference between sample and population means is: 9.54"
   ]
  },
  {
   "cell_type": "markdown",
   "metadata": {},
   "source": [
    "9.5 mean difference with a positive sign shows an increase in the sample mean. \n",
    "\n",
    "\n",
    "\n",
    "Let's also try drawing a distribution from example values to check for normality. "
   ]
  },
  {
   "cell_type": "code",
   "execution_count": 3,
   "metadata": {},
   "outputs": [
    {
     "name": "stderr",
     "output_type": "stream",
     "text": [
      "/opt/conda/envs/learn-env/lib/python3.6/site-packages/scipy/stats/stats.py:1713: FutureWarning: Using a non-tuple sequence for multidimensional indexing is deprecated; use `arr[tuple(seq)]` instead of `arr[seq]`. In the future this will be interpreted as an array index, `arr[np.array(seq)]`, which will result either in an error or a different result.\n",
      "  return np.add.reduce(sorted[indexer] * weights, axis=axis) / sumval\n"
     ]
    },
    {
     "data": {
      "text/plain": [
       "<matplotlib.axes._subplots.AxesSubplot at 0x7f1829f47160>"
      ]
     },
     "execution_count": 3,
     "metadata": {},
     "output_type": "execute_result"
    },
    {
     "data": {
      "image/png": "[encoded data removed]",
      "text/plain": [
       "<Figure size 432x288 with 1 Axes>"
      ]
     },
     "metadata": {
      "needs_background": "light"
     },
     "output_type": "display_data"
    }
   ],
   "source": [
    "# Plot the sample distribution\n",
    "sns.distplot(sample)"
   ]
  },
  {
   "cell_type": "markdown",
   "metadata": {},
   "source": [
    "At this point, you should have some idea of the difference between the sample and the population mean. To review, there is a null hypothesis that states there's no increase in sales performance and an alternate hypothesis that states that there is an increase in sales performance after the training session.\n",
    "\n",
    "The first step for stating these findings would be to assume that the null hypothesis is true. That means the mean of the sample and population are the same. What we want to know is, given that our null hypothesis is true, how rare is the data we're seeing?\n",
    "\n",
    "We're going to solve this problem by two methods, and you'll see that they agree.\n",
    "\n",
    "### Step 4: Calculate the t value from given data\n",
    "\n",
    "The sample looks like a nicely shaped normal distribution. After fulfilling the three requirements for a t-test mentioned above i.e. normality, independence, and randomness, we are ready to calculate our t statistic using the formula for one-sample t-test given as:\n",
    "\n",
    "# $$t = \\frac{\\bar{x}-\\mu}{\\frac{s}{\\sqrt{n}}}$$\n",
    " \n",
    "> **Exercise:** Using the formula given above, calculate the t-value in Python:"
   ]
  },
  {
   "cell_type": "code",
   "execution_count": 7,
   "metadata": {},
   "outputs": [
    {
     "name": "stdout",
     "output_type": "stream",
     "text": [
      "2.613855333716845 is the sigma\n"
     ]
    },
    {
     "data": {
      "text/plain": [
       "Ttest_1sampResult(statistic=3.578139767278185, pvalue=0.0015178945415114085)"
      ]
     },
     "execution_count": 7,
     "metadata": {},
     "output_type": "execute_result"
    }
   ],
   "source": [
    "# Calculate Sigma\n",
    "print(sample.std()/n**.5, 'is the sigma')\n",
    "t = stats.ttest_1samp(sample, popmean=mu)\n",
    "t\n",
    "# 3.578139767278185"
   ]
  },
  {
   "cell_type": "markdown",
   "metadata": {},
   "source": [
    "> Note that a positive t value indicates that the sample mean is greater than the population mean and vice versa. This means that the sample's average sales performance post-training is greater than average population sales performance. \n",
    "\n",
    "This sounds like good news, **BUT** is the increase high enough to reject the null hypothesis and accept that there is a significant increase in the mean of post training sales perfromance, or is it just by chance. Lets have a look at the t-distribution table to calculate our critical t_value, also, how to calculate the critical t value in python. \n",
    "\n",
    "Now, try visualizing the calculated t-statistic with a PDF."
   ]
  },
  {
   "cell_type": "code",
   "execution_count": 11,
   "metadata": {},
   "outputs": [
    {
     "data": {
      "text/plain": [
       "3.578139767278185"
      ]
     },
     "execution_count": 11,
     "metadata": {},
     "output_type": "execute_result"
    }
   ],
   "source": [
    "t[0]"
   ]
  },
  {
   "cell_type": "code",
   "execution_count": 14,
   "metadata": {},
   "outputs": [
    {
     "data": {
      "text/plain": [
       "<matplotlib.lines.Line2D at 0x7f20f83cfa58>"
      ]
     },
     "execution_count": 14,
     "metadata": {},
     "output_type": "execute_result"
    },
    {
     "data": {
      "image/png": "[encoded data removed]",
      "text/plain": [
       "<Figure size 432x288 with 1 Axes>"
      ]
     },
     "metadata": {
      "needs_background": "light"
     },
     "output_type": "display_data"
    }
   ],
   "source": [
    "# generate points on the x axis between -5 and 5:\n",
    "xs = np.linspace(-5, 5, 100)\n",
    "# use stats.t.pdf to get values on the probability density function for the t-distribution\n",
    "# the second argument is the degrees of freedom\n",
    "ys = stats.t.pdf(xs, df)\n",
    "# initialize a matplotlib \"figure\"\n",
    "fig, ax = plt.subplots(1,1)\n",
    "\n",
    "# get the current \"axis\" out of the figure\n",
    "#ax = None\n",
    "\n",
    "# plot the lines using matplotlib's plot function:\n",
    "ax.plot(xs, ys)\n",
    "# plot a vertical line for our measured difference in rates t-statistic\n",
    "plt.axvline(x=t[0], linewidth=2)"
   ]
  },
  {
   "cell_type": "code",
   "execution_count": 8,
   "metadata": {
    "scrolled": true
   },
   "outputs": [
    {
     "data": {
      "image/png": "[encoded data removed]",
      "text/plain": [
       "<matplotlib.figure.Figure at 0x109e34470>"
      ]
     },
     "metadata": {},
     "output_type": "display_data"
    }
   ],
   "source": []
  },
  {
   "cell_type": "markdown",
   "metadata": {},
   "source": [
    "### Step 5: Find the critical t value. \n",
    "\n",
    "\n",
    "The critical value approach involves determining \"likely\" or \"unlikely\", by determining whether or not the observed test statistic is more extreme than would be expected if the null hypothesis were true. This involves comparing the observed test statistic to some cutoff value, called the **\"critical value\"**. \n",
    ">If the test statistic is more extreme than the critical value, then the null hypothesis is rejected in favor of the alternative hypothesis. If the test statistic is not as extreme as the critical value, then the null hypothesis is not rejected.\n",
    "\n",
    "\n",
    "You need two values to find this:\n",
    "\n",
    "The **alpha level**: given as 5% in the question.\n",
    "\n",
    "**Degrees of freedom**, which is the number of items in the sample (n) minus 1: 25 – 1 = 24.\n",
    "\n",
    "![t-dist](t-dist.png)\n",
    "\n",
    "You use a one-tailed t-test towards the positive (right side of the t-distribution) to identify an increase in the sales performance. \n",
    "\n",
    "Look up 24 degrees of freedom in the left column and a p value of 0.05 (from 5% alpha level - 95% confidence level) in the top row. The intersection is `1.711`. This is our one-sample critical t-value.\n",
    "\n",
    "For the Null hypothesis to be true, what this critical value means is that we would expect most values to fall under 1.711. If our calculated t-value (from Step 4) falls within this range, the null hypothesis is likely true and we fail to reject the null hypothesis.\n",
    "\n",
    "This value can also be calculated in Python using Scipy.stats module using ppf() (Percent Point Function) as `scipy.stats.t.ppf(1-alpha, df)`. \n",
    "\n",
    "Ley's calculate the critical t using this formula and confirm our earlier findings. "
   ]
  },
  {
   "cell_type": "code",
   "execution_count": 16,
   "metadata": {},
   "outputs": [
    {
     "data": {
      "text/plain": [
       "1.7108820799094275"
      ]
     },
     "execution_count": 16,
     "metadata": {},
     "output_type": "execute_result"
    }
   ],
   "source": [
    "# Calculate critical t value\n",
    "t_crit = stats.t.ppf(.95, df)\n",
    "t_crit\n",
    "# 1.711"
   ]
  },
  {
   "cell_type": "markdown",
   "metadata": {},
   "source": [
    "As you can see , the critical value returned from the function (rounded off 2 two decimal places) is same as one we found the in t-distribution table i.e. 1.711. \n",
    "\n",
    "Using the the [t-distribution calculator](http://www.statdistributions.com/t/), and providing the set p-value, t-value and identifying the type of t-test, we get the following graph:\n",
    "\n",
    "![t_graph](t_graph.png)\n"
   ]
  },
  {
   "cell_type": "code",
   "execution_count": 17,
   "metadata": {},
   "outputs": [
    {
     "data": {
      "text/plain": [
       "Ttest_1sampResult(statistic=3.578139767278185, pvalue=0.0015178945415114085)"
      ]
     },
     "execution_count": 17,
     "metadata": {},
     "output_type": "execute_result"
    }
   ],
   "source": [
    "results = t     \n",
    "results\n",
    "#  Print results\n",
    "# The t-value for sample is 3.58 and the p-value is 0.0015"
   ]
  },
  {
   "cell_type": "markdown",
   "metadata": {},
   "source": [
    "### Step 6:\n",
    ">Compare t-value with critical t-value to accept or reject the Null hypothesis.\n",
    "\n",
    "Any t value which is greater than 1.711 will fall into the shaded region in the above figure. t-values greater than 1.711 would reflect an \"extreme\" result and can be used to reject the null hypothesis. \n",
    "\n",
    "Your calculated t-value, known as the t-statistic is 3.65, which greater than 1.711 and hence our results can be called \"statistically significant\" and will allow us to reject the null hypothesis and with 95% confidence state that: \n",
    "\n",
    "*We are 95% sure that the mean sales performance post training is higher than the population mean prior to training.*\n",
    "\n",
    "**NOTE:** This calculation can also be performed using the `ttest_1samp`  function in `SciPy.stats` indicated here: \n",
    "\n",
    ">**scipy.stats.ttest_1samp(a, popmean, axis=0, nan_policy='propagate')**\n",
    "\n",
    "\n",
    "Where a is the sample mean ($\\bar{x}$) and popmean ($\\mu$) is the population mean. This function returns the t-value and p-value for the sample. Here, you are using a one-tailed t-test as you are looking for an increase in sales performance."
   ]
  },
  {
   "cell_type": "code",
   "execution_count": 4,
   "metadata": {
    "collapsed": true,
    "scrolled": true
   },
   "outputs": [],
   "source": [
    "# Null hypothesis rejected. Results are statistically significant with \n",
    "# t-value = 3.58 and p-value = 0.0015"
   ]
  },
  {
   "cell_type": "markdown",
   "metadata": {},
   "source": [
    "We can use our null and alternate hypotheses defined earlier to state the results from our findings. "
   ]
  },
  {
   "cell_type": "code",
   "execution_count": 19,
   "metadata": {},
   "outputs": [
    {
     "data": {
      "text/plain": [
       "0.730384721516042"
      ]
     },
     "execution_count": 19,
     "metadata": {},
     "output_type": "execute_result"
    }
   ],
   "source": [
    "# Calculate Cohen's d and round off \n",
    "d = (sample.mean() - mu) / sample.std()\n",
    "d\n",
    "# 0.73"
   ]
  },
  {
   "cell_type": "markdown",
   "metadata": {},
   "source": [
    "## Effect Size Calculation for one-sample t-test\n",
    "\n",
    "The standard effect size (Cohen's d) for a one-sample t-test is the difference between the sample mean and the null value in units of the sample standard deviation:\n",
    "\n",
    ">** $d = \\bar{x} - \\mu / s $**\n",
    "\n",
    "\n",
    "With a test statistic / p-value you get a sense of the confidence you have in your result, **but these conflate the size with N**, so from a small p you don't know if you have a big effect with a small N or a small effect with a big N. Here, you would get a point estimate of the magnitude of the shift, but you don't know from d=.5 whether or not you can be confident that the true effect isn't 0.\n",
    "\n",
    "Lets calculate the Cohen'd for our sample using the formula above:\n"
   ]
  },
  {
   "cell_type": "code",
   "execution_count": 18,
   "metadata": {},
   "outputs": [],
   "source": [
    "def one_sample_ttest(sample, popmean, alpha):\n",
    "\n",
    "    # Visualize sample distribution for normality \n",
    "\n",
    "    \n",
    "    # Population mean \n",
    "\n",
    "    # Sample mean (x̄) using NumPy mean()\n",
    "\n",
    "    # Sample Stadrad Deviation (sigma) using Numpy\n",
    "    \n",
    "    # Degrees of freedom\n",
    "    \n",
    "    #Calculate the critical t-value\n",
    "    crit_t = stats.t.ppf(1 - alpha, len(sample) - 1)\n",
    "    #print(crit_t, \"is the critical t value\")\n",
    "    #Calculate the t-value and p-value      \n",
    "    \n",
    "    #return results\n",
    "    t = stats.ttest_1samp(sample, popmean)\n",
    "    #print(t)\n",
    "    if t[1] > alpha:\n",
    "        print(f'Fail to reject the null @ {alpha} significance level.')\n",
    "        print(f'{np.mean(sample)} is statistically equivilant to {popmean}')\n",
    "        return t\n",
    "    elif t[1] < alpha and t[0] > crit_t:\n",
    "        print(f'Reject the null @ {alpha} significance level.')\n",
    "        print(f'{np.mean(sample)} is different from {popmean}')\n",
    "        return t\n",
    "    else:\n",
    "        print(\"great scott! they are the same!\")\n",
    "        return t"
   ]
  },
  {
   "cell_type": "markdown",
   "metadata": {},
   "source": [
    "\n",
    "Following cohen's interpretation, one can confidently say that the sample mean shifts considerably towards the positive side as compared to the population mean, resulting in a large effect size. This also helps one conclude that training has a clear effect on the sales performance of the sales team when compared to pre-sales performance. \n",
    "\n",
    "\n",
    "### Exercise 1: \n",
    "\n",
    "Create a function in python `one_sample_ttest(sample, popmean, alpha)` that will take in a sample data(as the one given above),  the population mean and the alpha value to calculate and return the t-value, critical t-value and p-value for the sample and identify if the results are significant or not. "
   ]
  },
  {
   "cell_type": "markdown",
   "metadata": {},
   "source": [
    "### Exercise 2:\n",
    "\n",
    "Use the function created in exercise 1 to answer the following analytical questions.\n",
    "\n",
    "In a Python class, some of the students have taken online courses to improve their Python skills.\n",
    "The scores of a random sample of 20 students who underwent the online- course, on a Python test are as follows: \n",
    "\n",
    "     [84.0, 92.4, 74.3, 79.4, 86.7, 75.3, 90.9, 86.1, 81.0, 85.1, \n",
    "      78.7, 73.5, 86.9, 87.4, 82.7, 81.9, 69.9, 77.2, 79.3, 83.3]\n",
    "\n",
    "The mean score of the class before the test is 65. The teacher thinks that the online training has really helped the students and now they should perform better than the class (population) mean. Use this to set your null and alternate hypotheses.\n",
    "\n",
    "1. Test to see if the sample mean is significantly different from 65 at the .05 level. Report the t and p values.\n",
    "2. The researcher realizes that she accidentally recorded the score that should have been 80.9 as 90.9. Are these corrected scores significantly different from 65 at the .05 level?"
   ]
  },
  {
   "cell_type": "code",
   "execution_count": 19,
   "metadata": {
    "scrolled": true
   },
   "outputs": [
    {
     "name": "stdout",
     "output_type": "stream",
     "text": [
      "Reject the null @ 0.05 significance level.\n",
      "81.80000000000001 is different from 65\n"
     ]
    },
    {
     "data": {
      "text/plain": [
       "Ttest_1sampResult(statistic=12.687592157174493, pvalue=1.0053355594452825e-10)"
      ]
     },
     "execution_count": 19,
     "metadata": {},
     "output_type": "execute_result"
    }
   ],
   "source": [
    "sample = [84.0, 92.4, 74.3, 79.4, 86.7, 75.3, 90.9, 86.1, 81.0, 85.1, \n",
    "  78.7, 73.5, 86.9, 87.4, 82.7, 81.9, 69.9, 77.2, 79.3, 83.3]\n",
    "one_sample_ttest(sample, 65, .05)"
   ]
  },
  {
   "cell_type": "markdown",
   "metadata": {},
   "source": [
    "### Solution:"
   ]
  },
  {
   "cell_type": "code",
   "execution_count": 22,
   "metadata": {
    "scrolled": true
   },
   "outputs": [
    {
     "name": "stdout",
     "output_type": "stream",
     "text": [
      "Reject the null @ 0.05 significance level.\n",
      "81.30000000000001 is different from 65\n"
     ]
    },
    {
     "data": {
      "text/plain": [
       "Ttest_1sampResult(statistic=13.202088288314906, pvalue=5.083361606682268e-11)"
      ]
     },
     "execution_count": 22,
     "metadata": {},
     "output_type": "execute_result"
    }
   ],
   "source": [
    "corrected = [x if x != 90.9 else 80.9 for x in sample]\n",
    "one_sample_ttest(corrected, 65, .05)"
   ]
  },
  {
   "cell_type": "markdown",
   "metadata": {},
   "source": [
    "## Summary\n",
    "\n",
    "In this lesson, you saw a quick introduction to hypothesis testing using frequentists methods with t-values and p-values. You saw how a one sample t-test can be applied to contexts where the population mean is unknown and you have a limited amount of sample data. You looked at all the stages required for such hypothesis testing with a description of steps and also, how to perform these functions in Python. The lesson also briefly explains the comparison of using p-value for statistical significance vs. effect sizes. \n",
    "\n"
   ]
  }
 ],
 "metadata": {
  "kernelspec": {
   "display_name": "Python 3",
   "language": "python",
   "name": "python3"
  },
  "language_info": {
   "codemirror_mode": {
    "name": "ipython",
    "version": 3
   },
   "file_extension": ".py",
   "mimetype": "text/x-python",
   "name": "python",
   "nbconvert_exporter": "python",
   "pygments_lexer": "ipython3",
   "version": "3.6.6"
  }
 },
 "nbformat": 4,
 "nbformat_minor": 2
}
